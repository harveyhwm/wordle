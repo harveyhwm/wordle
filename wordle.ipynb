{
 "cells": [
  {
   "cell_type": "code",
   "execution_count": 48,
   "id": "ed98a7cb-b7ff-403a-bf5c-2fba4aae58bc",
   "metadata": {},
   "outputs": [],
   "source": [
    "import pandas as pd\n",
    "import numpy as np\n",
    "import zipfile\n",
    "import os,re\n",
    "\n",
    "from termcolor import colored"
   ]
  },
  {
   "cell_type": "code",
   "execution_count": 61,
   "id": "6b69764b-b93b-4ca7-9fda-805697f3be74",
   "metadata": {},
   "outputs": [],
   "source": [
    "DICT_WIKI_PATH = 'data/dictionary_lowercase.zip'\n",
    "DICT_WORD_PATH = 'data/wikipedia_en.zip'\n",
    "DICT_MAIN_PATH = 'data/dict_main.zip'"
   ]
  },
  {
   "cell_type": "code",
   "execution_count": 50,
   "id": "73faea4f-a2c4-4fbc-8d8f-357b2dfb6847",
   "metadata": {},
   "outputs": [],
   "source": [
    "dict_wiki = zipfile.ZipFile(DICT_WIKI_PATH)\n",
    "dict_wiki = pd.read_csv(dict_wiki.open(re.sub('zip$','txt',DICT_WIKI_PATH)),header=None,names=['word'])\n",
    "dict_wiki['word'] = dict_wiki['word'].apply(lambda x: str(x).upper())\n",
    "dict_wiki = dict_wiki.drop_duplicates()\n",
    "\n",
    "dict_word = zipfile.ZipFile(DICT_WORD_PATH)\n",
    "dict_word = pd.read_csv(dict_word.open(re.sub('zip$','txt',DICT_WORD_PATH)),sep=' ',header=None,names=['word','len','instances','articles'])\n",
    "dict_word['word'] = dict_word['word'].apply(lambda x: str(x).upper())\n",
    "dict_word = dict_word.groupby(['word','len']).sum().sort_values(by='instances',ascending=False).reset_index()"
   ]
  },
  {
   "cell_type": "code",
   "execution_count": 51,
   "id": "5458578e-84b5-4117-b2f0-11635b4716c8",
   "metadata": {},
   "outputs": [],
   "source": [
    "dict_main = dict_word.merge(dict_wiki,how='inner',on='word',sort=False)"
   ]
  },
  {
   "cell_type": "code",
   "execution_count": 62,
   "id": "0b7f8da3-61c6-4a63-af0c-86c3bc14666c",
   "metadata": {},
   "outputs": [],
   "source": [
    "dict_main.to_csv(DICT_MAIN_PATH,compression=dict(method='zip',archive_name=re.sub('zip$','csv',DICT_MAIN_PATH)))"
   ]
  },
  {
   "cell_type": "code",
   "execution_count": 53,
   "id": "08f2af1e-dbad-4d09-aef0-d969cafd7a1e",
   "metadata": {},
   "outputs": [
    {
     "data": {
      "text/html": [
       "<div>\n",
       "<style scoped>\n",
       "    .dataframe tbody tr th:only-of-type {\n",
       "        vertical-align: middle;\n",
       "    }\n",
       "\n",
       "    .dataframe tbody tr th {\n",
       "        vertical-align: top;\n",
       "    }\n",
       "\n",
       "    .dataframe thead th {\n",
       "        text-align: right;\n",
       "    }\n",
       "</style>\n",
       "<table border=\"1\" class=\"dataframe\">\n",
       "  <thead>\n",
       "    <tr style=\"text-align: right;\">\n",
       "      <th></th>\n",
       "      <th>word</th>\n",
       "      <th>len</th>\n",
       "      <th>instances</th>\n",
       "      <th>articles</th>\n",
       "    </tr>\n",
       "  </thead>\n",
       "  <tbody>\n",
       "    <tr>\n",
       "      <th>0</th>\n",
       "      <td>THE</td>\n",
       "      <td>3</td>\n",
       "      <td>32823802</td>\n",
       "      <td>4968822</td>\n",
       "    </tr>\n",
       "    <tr>\n",
       "      <th>1</th>\n",
       "      <td>OF</td>\n",
       "      <td>2</td>\n",
       "      <td>17445728</td>\n",
       "      <td>4279162</td>\n",
       "    </tr>\n",
       "    <tr>\n",
       "      <th>2</th>\n",
       "      <td>IN</td>\n",
       "      <td>2</td>\n",
       "      <td>15303927</td>\n",
       "      <td>4539682</td>\n",
       "    </tr>\n",
       "    <tr>\n",
       "      <th>3</th>\n",
       "      <td>AND</td>\n",
       "      <td>3</td>\n",
       "      <td>13537194</td>\n",
       "      <td>3886207</td>\n",
       "    </tr>\n",
       "    <tr>\n",
       "      <th>4</th>\n",
       "      <td>IS</td>\n",
       "      <td>2</td>\n",
       "      <td>8334346</td>\n",
       "      <td>4234968</td>\n",
       "    </tr>\n",
       "    <tr>\n",
       "      <th>...</th>\n",
       "      <td>...</td>\n",
       "      <td>...</td>\n",
       "      <td>...</td>\n",
       "      <td>...</td>\n",
       "    </tr>\n",
       "    <tr>\n",
       "      <th>54847</th>\n",
       "      <td>SCARIFY</td>\n",
       "      <td>7</td>\n",
       "      <td>2</td>\n",
       "      <td>2</td>\n",
       "    </tr>\n",
       "    <tr>\n",
       "      <th>54848</th>\n",
       "      <td>SCARILY</td>\n",
       "      <td>7</td>\n",
       "      <td>2</td>\n",
       "      <td>2</td>\n",
       "    </tr>\n",
       "    <tr>\n",
       "      <th>54849</th>\n",
       "      <td>SCANTINESS</td>\n",
       "      <td>10</td>\n",
       "      <td>2</td>\n",
       "      <td>2</td>\n",
       "    </tr>\n",
       "    <tr>\n",
       "      <th>54850</th>\n",
       "      <td>HENPECK</td>\n",
       "      <td>7</td>\n",
       "      <td>2</td>\n",
       "      <td>2</td>\n",
       "    </tr>\n",
       "    <tr>\n",
       "      <th>54851</th>\n",
       "      <td>HELLISHLY</td>\n",
       "      <td>9</td>\n",
       "      <td>2</td>\n",
       "      <td>2</td>\n",
       "    </tr>\n",
       "  </tbody>\n",
       "</table>\n",
       "<p>54852 rows × 4 columns</p>\n",
       "</div>"
      ],
      "text/plain": [
       "             word  len  instances  articles\n",
       "0             THE    3   32823802   4968822\n",
       "1              OF    2   17445728   4279162\n",
       "2              IN    2   15303927   4539682\n",
       "3             AND    3   13537194   3886207\n",
       "4              IS    2    8334346   4234968\n",
       "...           ...  ...        ...       ...\n",
       "54847     SCARIFY    7          2         2\n",
       "54848     SCARILY    7          2         2\n",
       "54849  SCANTINESS   10          2         2\n",
       "54850     HENPECK    7          2         2\n",
       "54851   HELLISHLY    9          2         2\n",
       "\n",
       "[54852 rows x 4 columns]"
      ]
     },
     "execution_count": 53,
     "metadata": {},
     "output_type": "execute_result"
    }
   ],
   "source": [
    "dict_main"
   ]
  },
  {
   "cell_type": "code",
   "execution_count": 54,
   "id": "329bfd5f-e5c5-414c-82f3-c7bcfee94dbf",
   "metadata": {},
   "outputs": [],
   "source": [
    "class Wordle:\n",
    "    def __init__(self,data,n=5):\n",
    "        self.data = data[data['len']==n].reset_index(drop=True)\n",
    "        self.word = self.data['word'][np.random.randint(len(self.data))]\n",
    "\n",
    "    def guess(self):\n",
    "        t = 1\n",
    "        keys = {}\n",
    "        colors = ['\\033[38;5;241m','\\033[38;5;254m','\\033[38;5;214m','\\033[38;5;36m']\n",
    "        for a in 'ABCDEFGHIJKLMNOPQRSTUVWXYZ':\n",
    "            keys[a] = 0\n",
    "        match = np.zeros(len(self.word),dtype=int)\n",
    "        while min(match) < 3:\n",
    "            m = ''\n",
    "            myguess = input('Guess '+str(t)+':')\n",
    "            if len(myguess) != len(self.word):\n",
    "                print('Please choose a '+str(len(self.word))+'-letter word!')\n",
    "                continue\n",
    "            else:\n",
    "                for c in range(len(myguess)):\n",
    "                    if myguess[c] == self.word[c]:\n",
    "                        match[c] = keys[myguess[c]] = 3\n",
    "                    elif (myguess[c] in self.word) and (myguess[c] != self.word[c]):\n",
    "                        match[c] = keys[myguess[c]] = 2\n",
    "                    else:\n",
    "                        match[c] = keys[myguess[c]] = 1\n",
    "                if min(match) != 3:\n",
    "                    t += 1\n",
    "                for s in myguess:\n",
    "                    m += '\\033[1m'+colors[keys[s]]+' '+s\n",
    "                m += '   :   '\n",
    "                for s in keys.keys():\n",
    "                    m += colors[keys[s]]+' '+s\n",
    "                print(m)\n",
    "        return 'you got it in '+str(t)+' tries :)'"
   ]
  },
  {
   "cell_type": "code",
   "execution_count": 55,
   "id": "6fb9d426-2e10-43bd-84ef-ce89227da4e1",
   "metadata": {},
   "outputs": [],
   "source": [
    "word = Wordle(dict_main)"
   ]
  },
  {
   "cell_type": "code",
   "execution_count": 57,
   "id": "b2e8cfff-7827-4d13-aa99-305dc7a5afdc",
   "metadata": {},
   "outputs": [],
   "source": [
    "word.guess()"
   ]
  },
  {
   "cell_type": "code",
   "execution_count": 59,
   "id": "6fa0f20a-d910-421e-85e8-b9f59fa7f583",
   "metadata": {},
   "outputs": [],
   "source": [
    "if __name__ == '__main__':\n",
    "    dict_main = pd.read_csv(zipfile.ZipFile(DICT_MAIN_PATH).open(re.sub('zip$','csv',DICT_MAIN_PATH)))\n",
    "    word = Wordle(dict_main)\n",
    "    word.guess()"
   ]
  }
 ],
 "metadata": {
  "kernelspec": {
   "display_name": "Python 3.9 tf1",
   "language": "python",
   "name": "tensorflow"
  },
  "language_info": {
   "codemirror_mode": {
    "name": "ipython",
    "version": 3
   },
   "file_extension": ".py",
   "mimetype": "text/x-python",
   "name": "python",
   "nbconvert_exporter": "python",
   "pygments_lexer": "ipython3",
   "version": "3.9.9"
  }
 },
 "nbformat": 4,
 "nbformat_minor": 5
}
