{
 "cells": [
  {
   "cell_type": "code",
   "execution_count": 1,
   "id": "ed98a7cb-b7ff-403a-bf5c-2fba4aae58bc",
   "metadata": {},
   "outputs": [],
   "source": [
    "import pandas as pd\n",
    "import numpy as np"
   ]
  },
  {
   "cell_type": "code",
   "execution_count": 2,
   "id": "6b69764b-b93b-4ca7-9fda-805697f3be74",
   "metadata": {},
   "outputs": [],
   "source": [
    "DICT_WIKI_PATH = '/Users/harveymanhood/Documents/- datasets/words/dictionary_lowercase.txt'\n",
    "DICT_WORD_PATH = '/Users/harveymanhood/Documents/- datasets/words/wikipedia_en.txt'"
   ]
  },
  {
   "cell_type": "code",
   "execution_count": 40,
   "id": "113e5378-2bcc-470c-962d-7264879cc58e",
   "metadata": {},
   "outputs": [],
   "source": [
    "dict_wiki = pd.read_csv(DICT_WIKI_PATH,header=None,names=['word'])\n",
    "dict_word = pd.read_csv(DICT_WORD_PATH,sep=' ',header=None,names=['word','len','instances','articles'])"
   ]
  },
  {
   "cell_type": "code",
   "execution_count": 41,
   "id": "5458578e-84b5-4117-b2f0-11635b4716c8",
   "metadata": {},
   "outputs": [],
   "source": [
    "dict_wiki['word'] = dict_wiki['word'].apply(lambda x: str(x).upper())\n",
    "dict_wiki = dict_wiki.drop_duplicates()\n",
    "dict_word['word'] = dict_word['word'].apply(lambda x: str(x).upper())\n",
    "dict_word = dict_word.groupby(['word','len']).sum().sort_values(by='instances',ascending=False).reset_index()\n",
    "dict_master = dict_word.merge(dict_wiki,how='inner',on='word',sort=False)"
   ]
  },
  {
   "cell_type": "code",
   "execution_count": 117,
   "id": "329bfd5f-e5c5-414c-82f3-c7bcfee94dbf",
   "metadata": {},
   "outputs": [],
   "source": [
    "class Wordle:\n",
    "    def __init__(self,data,n=5):\n",
    "        self.data = data[data['len']==n].reset_index(drop=True)\n",
    "        self.word = self.data['word'][np.random.randint(len(self.data))]\n",
    "        \n",
    "    def guess(self):\n",
    "        t = 1\n",
    "        match = np.zeros(len(self.word),dtype=int)\n",
    "        while min(match) < 2:\n",
    "            myguess = input('Guess '+str(t)+':')\n",
    "            if len(myguess) != len(self.word):\n",
    "                print('Please choose a '+str(len(self.word))+'-letter word!')\n",
    "                continue\n",
    "            else:\n",
    "                for c in range(len(myguess)):\n",
    "                    if myguess[c] == self.word[c]:\n",
    "                        match[c] = 2\n",
    "                    elif (myguess[c] in self.word) and (myguess[c] != self.word[c]):\n",
    "                        match[c] = 1\n",
    "                    else:\n",
    "                        match[c] = 0\n",
    "                if min(match) != 2:\n",
    "                    t += 1\n",
    "                    print(match)\n",
    "        return 'you got it in '+str(t)+' tries :)'"
   ]
  },
  {
   "cell_type": "code",
   "execution_count": 118,
   "id": "6fb9d426-2e10-43bd-84ef-ce89227da4e1",
   "metadata": {},
   "outputs": [],
   "source": [
    "word = Wordle(dict_master)"
   ]
  },
  {
   "cell_type": "code",
   "execution_count": 119,
   "id": "b2e8cfff-7827-4d13-aa99-305dc7a5afdc",
   "metadata": {},
   "outputs": [
    {
     "name": "stdin",
     "output_type": "stream",
     "text": [
      "Guess 1: VOLES\n"
     ]
    },
    {
     "name": "stdout",
     "output_type": "stream",
     "text": [
      "[0 0 0 2 1]\n"
     ]
    },
    {
     "name": "stdin",
     "output_type": "stream",
     "text": [
      "Guess 2: STEAM\n"
     ]
    },
    {
     "name": "stdout",
     "output_type": "stream",
     "text": [
      "[1 1 1 0 0]\n"
     ]
    },
    {
     "name": "stdin",
     "output_type": "stream",
     "text": [
      "Guess 3: TIMES\n"
     ]
    },
    {
     "name": "stdout",
     "output_type": "stream",
     "text": [
      "[1 0 0 2 1]\n"
     ]
    },
    {
     "name": "stdin",
     "output_type": "stream",
     "text": [
      "Guess 4: ASSET\n"
     ]
    },
    {
     "name": "stdout",
     "output_type": "stream",
     "text": [
      "[0 2 1 2 1]\n"
     ]
    },
    {
     "name": "stdin",
     "output_type": "stream",
     "text": [
      "Guess 5: ESTER\n"
     ]
    },
    {
     "data": {
      "text/plain": [
       "'you got it in 5 tries :)'"
      ]
     },
     "execution_count": 119,
     "metadata": {},
     "output_type": "execute_result"
    }
   ],
   "source": [
    "word.guess()"
   ]
  }
 ],
 "metadata": {
  "kernelspec": {
   "display_name": "Python 3.9 tf1",
   "language": "python",
   "name": "tensorflow"
  },
  "language_info": {
   "codemirror_mode": {
    "name": "ipython",
    "version": 3
   },
   "file_extension": ".py",
   "mimetype": "text/x-python",
   "name": "python",
   "nbconvert_exporter": "python",
   "pygments_lexer": "ipython3",
   "version": "3.9.9"
  }
 },
 "nbformat": 4,
 "nbformat_minor": 5
}
