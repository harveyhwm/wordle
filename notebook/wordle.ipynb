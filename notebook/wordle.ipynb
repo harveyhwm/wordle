{
 "cells": [
  {
   "cell_type": "code",
   "execution_count": 5,
   "id": "ed98a7cb-b7ff-403a-bf5c-2fba4aae58bc",
   "metadata": {},
   "outputs": [],
   "source": [
    "import pandas as pd\n",
    "import numpy as np\n",
    "import zipfile\n",
    "import os,re\n",
    "\n",
    "from termcolor import colored"
   ]
  },
  {
   "cell_type": "code",
   "execution_count": 6,
   "id": "6b69764b-b93b-4ca7-9fda-805697f3be74",
   "metadata": {},
   "outputs": [],
   "source": [
    "DICT_DIR = '../data/'\n",
    "DICT_WIKI_PATH = 'dictionary_lowercase.zip'\n",
    "DICT_WORD_PATH = 'wikipedia_en.zip'\n",
    "DICT_MAIN_PATH = 'dict_main.zip'"
   ]
  },
  {
   "cell_type": "code",
   "execution_count": 7,
   "id": "73faea4f-a2c4-4fbc-8d8f-357b2dfb6847",
   "metadata": {},
   "outputs": [],
   "source": [
    "dict_wiki = zipfile.ZipFile(DICT_DIR+DICT_WIKI_PATH)\n",
    "dict_wiki = pd.read_csv(dict_wiki.open(re.sub('zip$','txt',DICT_WIKI_PATH)),header=None,names=['word'])\n",
    "dict_wiki['word'] = dict_wiki['word'].apply(lambda x: str(x).upper())\n",
    "dict_wiki = dict_wiki.drop_duplicates()\n",
    "\n",
    "dict_word = zipfile.ZipFile(DICT_DIR+DICT_WORD_PATH)\n",
    "dict_word = pd.read_csv(dict_word.open(re.sub('zip$','txt',DICT_WORD_PATH)),sep=' ',header=None,names=['word','len','instances','articles'])\n",
    "dict_word['word'] = dict_word['word'].apply(lambda x: str(x).upper())\n",
    "dict_word = dict_word.groupby(['word','len']).sum().sort_values(by='instances',ascending=False).reset_index()"
   ]
  },
  {
   "cell_type": "code",
   "execution_count": 8,
   "id": "5458578e-84b5-4117-b2f0-11635b4716c8",
   "metadata": {},
   "outputs": [],
   "source": [
    "dict_main = dict_word.merge(dict_wiki,how='inner',on='word',sort=False)"
   ]
  },
  {
   "cell_type": "code",
   "execution_count": 9,
   "id": "0b7f8da3-61c6-4a63-af0c-86c3bc14666c",
   "metadata": {},
   "outputs": [],
   "source": [
    "dict_main.to_csv(DICT_DIR+DICT_MAIN_PATH,compression=dict(method='zip',archive_name=re.sub('zip$','csv',DICT_MAIN_PATH)))"
   ]
  },
  {
   "cell_type": "code",
   "execution_count": 10,
   "id": "08f2af1e-dbad-4d09-aef0-d969cafd7a1e",
   "metadata": {},
   "outputs": [
    {
     "data": {
      "text/html": [
       "<div>\n",
       "<style scoped>\n",
       "    .dataframe tbody tr th:only-of-type {\n",
       "        vertical-align: middle;\n",
       "    }\n",
       "\n",
       "    .dataframe tbody tr th {\n",
       "        vertical-align: top;\n",
       "    }\n",
       "\n",
       "    .dataframe thead th {\n",
       "        text-align: right;\n",
       "    }\n",
       "</style>\n",
       "<table border=\"1\" class=\"dataframe\">\n",
       "  <thead>\n",
       "    <tr style=\"text-align: right;\">\n",
       "      <th></th>\n",
       "      <th>word</th>\n",
       "      <th>len</th>\n",
       "      <th>instances</th>\n",
       "      <th>articles</th>\n",
       "    </tr>\n",
       "  </thead>\n",
       "  <tbody>\n",
       "    <tr>\n",
       "      <th>0</th>\n",
       "      <td>THE</td>\n",
       "      <td>3</td>\n",
       "      <td>32823802</td>\n",
       "      <td>4968822</td>\n",
       "    </tr>\n",
       "    <tr>\n",
       "      <th>1</th>\n",
       "      <td>OF</td>\n",
       "      <td>2</td>\n",
       "      <td>17445728</td>\n",
       "      <td>4279162</td>\n",
       "    </tr>\n",
       "    <tr>\n",
       "      <th>2</th>\n",
       "      <td>IN</td>\n",
       "      <td>2</td>\n",
       "      <td>15303927</td>\n",
       "      <td>4539682</td>\n",
       "    </tr>\n",
       "    <tr>\n",
       "      <th>3</th>\n",
       "      <td>AND</td>\n",
       "      <td>3</td>\n",
       "      <td>13537194</td>\n",
       "      <td>3886207</td>\n",
       "    </tr>\n",
       "    <tr>\n",
       "      <th>4</th>\n",
       "      <td>IS</td>\n",
       "      <td>2</td>\n",
       "      <td>8334346</td>\n",
       "      <td>4234968</td>\n",
       "    </tr>\n",
       "    <tr>\n",
       "      <th>...</th>\n",
       "      <td>...</td>\n",
       "      <td>...</td>\n",
       "      <td>...</td>\n",
       "      <td>...</td>\n",
       "    </tr>\n",
       "    <tr>\n",
       "      <th>54847</th>\n",
       "      <td>SCARIFY</td>\n",
       "      <td>7</td>\n",
       "      <td>2</td>\n",
       "      <td>2</td>\n",
       "    </tr>\n",
       "    <tr>\n",
       "      <th>54848</th>\n",
       "      <td>SCARILY</td>\n",
       "      <td>7</td>\n",
       "      <td>2</td>\n",
       "      <td>2</td>\n",
       "    </tr>\n",
       "    <tr>\n",
       "      <th>54849</th>\n",
       "      <td>SCANTINESS</td>\n",
       "      <td>10</td>\n",
       "      <td>2</td>\n",
       "      <td>2</td>\n",
       "    </tr>\n",
       "    <tr>\n",
       "      <th>54850</th>\n",
       "      <td>HENPECK</td>\n",
       "      <td>7</td>\n",
       "      <td>2</td>\n",
       "      <td>2</td>\n",
       "    </tr>\n",
       "    <tr>\n",
       "      <th>54851</th>\n",
       "      <td>HELLISHLY</td>\n",
       "      <td>9</td>\n",
       "      <td>2</td>\n",
       "      <td>2</td>\n",
       "    </tr>\n",
       "  </tbody>\n",
       "</table>\n",
       "<p>54852 rows × 4 columns</p>\n",
       "</div>"
      ],
      "text/plain": [
       "             word  len  instances  articles\n",
       "0             THE    3   32823802   4968822\n",
       "1              OF    2   17445728   4279162\n",
       "2              IN    2   15303927   4539682\n",
       "3             AND    3   13537194   3886207\n",
       "4              IS    2    8334346   4234968\n",
       "...           ...  ...        ...       ...\n",
       "54847     SCARIFY    7          2         2\n",
       "54848     SCARILY    7          2         2\n",
       "54849  SCANTINESS   10          2         2\n",
       "54850     HENPECK    7          2         2\n",
       "54851   HELLISHLY    9          2         2\n",
       "\n",
       "[54852 rows x 4 columns]"
      ]
     },
     "execution_count": 10,
     "metadata": {},
     "output_type": "execute_result"
    }
   ],
   "source": [
    "dict_main"
   ]
  },
  {
   "cell_type": "code",
   "execution_count": 93,
   "id": "329bfd5f-e5c5-414c-82f3-c7bcfee94dbf",
   "metadata": {},
   "outputs": [],
   "source": [
    "class Wordle:\n",
    "    def __init__(self,data,first=True):\n",
    "        if first is True:\n",
    "            self.alldata = data\n",
    "            self.breakword = 'IGIVEUP' #string to input if you can't get it and want to find the answer :)\n",
    "            print('Welcome to \\033[1mWORDLE!\\n\\033[0m')\n",
    "        n = input('Please choose your desired word length : ')\n",
    "        self.n = int(n)\n",
    "        self.data = self.alldata[self.alldata['len']==self.n].reset_index(drop=True)\n",
    "        self.word = self.data['word'][np.random.randint(len(self.data))]\n",
    "        self.keys = {}\n",
    "\n",
    "    # the n+1 keys save the state of each letter in your current guess, with the final one used to store the letter state in your guess history\n",
    "    def set_keys(self,save_letters=False):\n",
    "        for a in 'ABCDEFGHIJKLMNOPQRSTUVWXYZ':\n",
    "            if save_letters is False:\n",
    "                self.keys[a] = list(np.zeros(self.n+1,dtype=int))\n",
    "            else:\n",
    "                self.keys[a] = list(np.zeros(self.n,dtype=int))+[self.keys[a][self.n]]\n",
    "\n",
    "    def guess(self):\n",
    "        t = 1\n",
    "        # ansi escape codes for light grey, dark grey, orange and green\n",
    "        colors = ['\\033[38;5;254m','\\033[38;5;239m','\\033[38;5;214m','\\033[38;5;36m']\n",
    "        match = np.zeros(self.n,dtype=int)\n",
    "        self.set_keys()\n",
    "        while min(match) < 3:\n",
    "            m = ''\n",
    "            myguess = input(f'Guess {t} : ').upper()\n",
    "            if myguess == self.breakword:\n",
    "                print(f'The answer was {self.word} :)\\n')\n",
    "                match = [3 for i in match]\n",
    "            if (len(myguess) != self.n) and (myguess != self.breakword):\n",
    "                print(f'Please choose a {self.n}-letter word!')\n",
    "                continue\n",
    "            elif (re.match('^[A-Za-z]{'+str(self.n)+'}$',myguess) is None) and (myguess != self.breakword):\n",
    "                print('Please use alphabetic characters only!')\n",
    "                continue\n",
    "            else:\n",
    "                if myguess != self.breakword:\n",
    "                    guessmap = []\n",
    "                    for c in myguess:\n",
    "                        guessmap.append(self.keys[c][0])\n",
    "                        self.keys[c][0] += 1\n",
    "                    self.set_keys(save_letters=True)\n",
    "                    for i,c in enumerate(myguess):\n",
    "                        if c == self.word[i]:\n",
    "                            match[i] = self.keys[c][guessmap[i]-1] = 3\n",
    "                        elif (c in self.word) and (c != self.word[i]):\n",
    "                            match[i] = self.keys[c][guessmap[i]-1] = 2\n",
    "                        else:\n",
    "                            match[i] = self.keys[c][guessmap[i]-1] = 1\n",
    "                        self.keys[c][self.n] = max(self.keys[c][self.n],match[i])\n",
    "                        m += '\\033[1m'+colors[match[i]]+c+' '+'\\033[1m'\n",
    "                    m += '\\033[0m  :   '\n",
    "                    for s in self.keys.keys():\n",
    "                        m += '\\033[1m'+colors[self.keys[s][self.n]]+' '+s+'\\033[1m'\n",
    "                    m += '\\033[0m'\n",
    "                    print(m)\n",
    "                if min(match) == 3:\n",
    "                    if myguess != self.breakword: print(f'You got it in {t} tries :)\\n')\n",
    "                    replay = input('Do you want to play again? y/n : ')\n",
    "                    if replay.upper() == 'Y':\n",
    "                        self.__init__(self.alldata,first=False)\n",
    "                        self.guess()\n",
    "                    else:\n",
    "                        break\n",
    "                else:\n",
    "                    self.set_keys(save_letters=True)\n",
    "                    t += 1"
   ]
  },
  {
   "cell_type": "code",
   "execution_count": 11,
   "id": "6fb9d426-2e10-43bd-84ef-ce89227da4e1",
   "metadata": {},
   "outputs": [],
   "source": [
    "word = Wordle(dict_main)"
   ]
  },
  {
   "cell_type": "code",
   "execution_count": 13,
   "id": "b2e8cfff-7827-4d13-aa99-305dc7a5afdc",
   "metadata": {},
   "outputs": [],
   "source": [
    "word.guess()"
   ]
  },
  {
   "cell_type": "code",
   "execution_count": 95,
   "id": "6fa0f20a-d910-421e-85e8-b9f59fa7f583",
   "metadata": {},
   "outputs": [],
   "source": [
    "if __name__ == '__main__':\n",
    "    dict_main = pd.read_csv(zipfile.ZipFile(DICT_DIR+DICT_MAIN_PATH).open(re.sub('zip$','csv',DICT_MAIN_PATH)))\n",
    "    word = Wordle(dict_main)\n",
    "    word.guess()"
   ]
  },
  {
   "cell_type": "code",
   "execution_count": 9,
   "id": "4c57f7c9-7c77-4ef0-bb5f-efd80d3899bc",
   "metadata": {},
   "outputs": [
    {
     "data": {
      "text/plain": [
       "<re.Match object; span=(0, 5), match='stars'>"
      ]
     },
     "execution_count": 9,
     "metadata": {},
     "output_type": "execute_result"
    }
   ],
   "source": [
    "import re\n",
    "re.match('^[A-Za-z]{5}$','stars')"
   ]
  },
  {
   "cell_type": "code",
   "execution_count": 11,
   "id": "53f91322-07a6-4ab9-a633-f07022e40ec4",
   "metadata": {},
   "outputs": [
    {
     "data": {
      "text/plain": [
       "True"
      ]
     },
     "execution_count": 11,
     "metadata": {},
     "output_type": "execute_result"
    }
   ],
   "source": [
    "re.match('^[A-Za-z]{5}$','strars') is None"
   ]
  },
  {
   "cell_type": "code",
   "execution_count": null,
   "id": "8f9e0fa5-1e71-4fdf-8041-647e73a61c79",
   "metadata": {},
   "outputs": [],
   "source": []
  }
 ],
 "metadata": {
  "kernelspec": {
   "display_name": "Python 3.9 tf1",
   "language": "python",
   "name": "tensorflow"
  },
  "language_info": {
   "codemirror_mode": {
    "name": "ipython",
    "version": 3
   },
   "file_extension": ".py",
   "mimetype": "text/x-python",
   "name": "python",
   "nbconvert_exporter": "python",
   "pygments_lexer": "ipython3",
   "version": "3.9.9"
  }
 },
 "nbformat": 4,
 "nbformat_minor": 5
}
